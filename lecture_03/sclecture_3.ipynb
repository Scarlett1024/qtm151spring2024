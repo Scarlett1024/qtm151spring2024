{
 "cells": [
  {
   "attachments": {},
   "cell_type": "markdown",
   "metadata": {},
   "source": [
    "# <span style=\"color:darkblue\"> Lecture 3: Mathematical Operations and Random Numbers </span>"
   ]
  },
  {
   "attachments": {},
   "cell_type": "markdown",
   "metadata": {},
   "source": [
    "<font size=\"5\"> \n",
    "\n",
    "In the previous class we:\n",
    "- Introduced lists and variable types\n",
    "- Talked about how to extract elements from a list"
   ]
  },
  {
   "attachments": {},
   "cell_type": "markdown",
   "metadata": {},
   "source": [
    "<font size=\"5\"> \n",
    "\n",
    "In this class we will:\n",
    "\n",
    "- Introduce a library for general mathematical operations\n",
    "- Generate random numbers\n",
    "- (Optional) Matrix operations"
   ]
  },
  {
   "attachments": {},
   "cell_type": "markdown",
   "metadata": {},
   "source": [
    "## <span style=\"color:darkblue\"> I. Import Libraries </span>"
   ]
  },
  {
   "cell_type": "code",
   "execution_count": 2,
   "metadata": {},
   "outputs": [],
   "source": [
    "# the \"numPy\" library is used for mathematical operations\n",
    "# the \"matplotlib\" library is for generating graphs\n",
    "\n",
    "import numpy as np\n",
    "import matplotlib.pyplot as plt\n"
   ]
  },
  {
   "attachments": {},
   "cell_type": "markdown",
   "metadata": {},
   "source": [
    "##  <span style=\"color:darkblue\"> II. Numbers and Functions </span>"
   ]
  },
  {
   "attachments": {},
   "cell_type": "markdown",
   "metadata": {},
   "source": [
    "<font size = \"5\" >\n",
    "Examples of numPy numbers"
   ]
  },
  {
   "cell_type": "code",
   "execution_count": 3,
   "metadata": {},
   "outputs": [
    {
     "data": {
      "text/plain": [
       "3.141592653589793"
      ]
     },
     "execution_count": 3,
     "metadata": {},
     "output_type": "execute_result"
    }
   ],
   "source": [
    "# Computes \"pi\" (3.14...)\n",
    "\n",
    "np.pi"
   ]
  },
  {
   "attachments": {},
   "cell_type": "markdown",
   "metadata": {},
   "source": [
    "<font size = \"5\" >\n",
    "\n",
    "Examples of numPy functions\n",
    "\n",
    "$ ln(x), e^x, sin(x), cos(x), \\sqrt{x}$"
   ]
  },
  {
   "cell_type": "code",
   "execution_count": 4,
   "metadata": {},
   "outputs": [
    {
     "name": "stdout",
     "output_type": "stream",
     "text": [
      "0.0\n",
      "2.718281828459045\n",
      "0.8414709848078965\n",
      "0.5403023058681398\n",
      "1.0\n"
     ]
    }
   ],
   "source": [
    "# log(x) computes the logarithm with base \"e\" (Euler constant)\n",
    "# exp(x) compute the Euler constant raised to the power of \"x\"\n",
    "# sing(x) computes the sine of x\n",
    "# cos(x) computes the cosine of x\n",
    "# In this example, we're substituting x = 1\n",
    "\n",
    "print(np.log(1))\n",
    "print(np.exp(1))\n",
    "print(np.sin(1))\n",
    "print(np.cos(1))\n",
    "print(np.sqrt(1))"
   ]
  },
  {
   "cell_type": "markdown",
   "metadata": {},
   "source": [
    "Raising to a number: x ** 5 not x ^5"
   ]
  },
  {
   "cell_type": "code",
   "execution_count": 9,
   "metadata": {},
   "outputs": [
    {
     "data": {
      "text/plain": [
       "100000"
      ]
     },
     "execution_count": 9,
     "metadata": {},
     "output_type": "execute_result"
    }
   ],
   "source": [
    "x = 10\n",
    "\n",
    "x**5"
   ]
  },
  {
   "attachments": {},
   "cell_type": "markdown",
   "metadata": {},
   "source": [
    "<font size = \"5\">\n",
    "\n",
    "Try it yourself!\n",
    "\n",
    "- Create a new variable, $x = 5$\n",
    "- Compute $\\pi x^2$\n",
    "- Compute $ \\frac{1}{\\sqrt{2\\pi}}e^{-x^2} $"
   ]
  },
  {
   "cell_type": "code",
   "execution_count": 15,
   "metadata": {},
   "outputs": [
    {
     "name": "stdout",
     "output_type": "stream",
     "text": [
      "78.53981633974483\n",
      "5.540487995575841e-12\n"
     ]
    }
   ],
   "source": [
    "# Write your own code\n",
    "\n",
    "x = 5s\n",
    "print (np.pi*x**2)\n",
    "print ((1/(np.sqrt(2*np.pi)))*np.e**-x**2)\n",
    "\n"
   ]
  },
  {
   "attachments": {},
   "cell_type": "markdown",
   "metadata": {},
   "source": [
    "##  <span style=\"color:darkblue\"> III. Vector Arrays </span>"
   ]
  },
  {
   "attachments": {},
   "cell_type": "markdown",
   "metadata": {},
   "source": [
    "<font size = \"5\">\n",
    "Create an array from a list\n",
    "\n",
    "$ \\text{ }$\n",
    "$ a = \\begin{pmatrix} 1 \\\\ 2 \\\\ 3 \\end{pmatrix}\n",
    "\\qquad b = \\begin{pmatrix} 0 \\\\ 1 \\\\ 0\\end{pmatrix}\n",
    "\\qquad c = \\begin{pmatrix} 10 \\\\ 100 \\\\ 1000 \\\\ 2000 \\\\ 5000 \\end{pmatrix} \n",
    "\\qquad d = \\begin{pmatrix} 4 \\\\ 2 \\end{pmatrix} $"
   ]
  },
  {
   "cell_type": "code",
   "execution_count": 16,
   "metadata": {},
   "outputs": [],
   "source": [
    "# You create an array by converting a list [1,2,3] to a numeric object\n",
    "# \"array\" is a subfunction of the library numPy.\n",
    "\n",
    "vec_a  = np.array([1,2,3])\n",
    "vec_b  = np.array([0,1,0])\n",
    "vec_c  = np.array([10,100,1000,2000,5000])\n"
   ]
  },
  {
   "attachments": {},
   "cell_type": "markdown",
   "metadata": {},
   "source": [
    "<font size = \"5\">\n",
    "\n",
    "Accessing an element of an array"
   ]
  },
  {
   "cell_type": "code",
   "execution_count": 17,
   "metadata": {},
   "outputs": [
    {
     "name": "stdout",
     "output_type": "stream",
     "text": [
      "1\n",
      "3\n"
     ]
    }
   ],
   "source": [
    "# Arrays, like lists, start their numbering at zero.\n",
    "# You also access them with square brackets\n",
    "\n",
    "print(vec_a[0])\n",
    "print(vec_a[2])\n"
   ]
  },
  {
   "attachments": {},
   "cell_type": "markdown",
   "metadata": {},
   "source": [
    "<font size = \"5\">\n",
    "Operations with a single array and a scalar"
   ]
  },
  {
   "attachments": {},
   "cell_type": "markdown",
   "metadata": {},
   "source": [
    "<font size = \"5\">\n",
    "\n",
    "$ a + 2 = \\begin{pmatrix} a_1 + 2 \\\\ a_2 + 2 \\\\ a_3 + 2 \\end{pmatrix}$"
   ]
  },
  {
   "cell_type": "code",
   "execution_count": 18,
   "metadata": {},
   "outputs": [
    {
     "name": "stdout",
     "output_type": "stream",
     "text": [
      "[2 4 6]\n",
      "[0.5 1.  1.5]\n",
      "[3 4 5]\n",
      "[1 4 9]\n"
     ]
    }
   ],
   "source": [
    "# A scalar refers to either an int or float\n",
    "# We can do many common operations with \n",
    "\n",
    "print(vec_a * 2)\n",
    "print(vec_a / 2)\n",
    "print(vec_a + 2)\n",
    "print(vec_a ** 2)"
   ]
  },
  {
   "attachments": {},
   "cell_type": "markdown",
   "metadata": {},
   "source": [
    "<font size = \"5\">\n",
    "Element-by-element addition between two arrays of the same size\n",
    "\n",
    "$\\text{ }$\n",
    "\n",
    "$ a + b = \\begin{pmatrix} a_1 \\\\ a_2 \\\\ a_3 \\end{pmatrix} +\n",
    "          \\begin{pmatrix} b_1 \\\\ b_2 \\\\ b_3 \\end{pmatrix} =\n",
    "          \\begin{pmatrix} a_1 + b_1 \\\\ a_2 + b_2 \\\\ a_3 + b_3 \\end{pmatrix}$"
   ]
  },
  {
   "cell_type": "code",
   "execution_count": 19,
   "metadata": {},
   "outputs": [
    {
     "name": "stdout",
     "output_type": "stream",
     "text": [
      "[1 2 3]\n",
      "[0 1 0]\n"
     ]
    }
   ],
   "source": [
    "print(vec_a)\n",
    "print(vec_b)"
   ]
  },
  {
   "cell_type": "code",
   "execution_count": 20,
   "metadata": {},
   "outputs": [
    {
     "name": "stdout",
     "output_type": "stream",
     "text": [
      "[1 3 3]\n"
     ]
    }
   ],
   "source": [
    "# When you add two arrays of the same size,\n",
    "# Python adds the individual elements in each position\n",
    "\n",
    "print(vec_a + vec_b)\n"
   ]
  },
  {
   "attachments": {},
   "cell_type": "markdown",
   "metadata": {},
   "source": [
    "<font size =\"5\">\n",
    "\n",
    "The default multiplication option is element-by element:\n",
    "\n",
    "$ a * b = \\begin{pmatrix} a_1 * b_1 \\\\ a_2 * b_2 \\\\ a_3 * b_3 \\end{pmatrix}$"
   ]
  },
  {
   "cell_type": "code",
   "execution_count": 21,
   "metadata": {},
   "outputs": [
    {
     "name": "stdout",
     "output_type": "stream",
     "text": [
      "[0 2 0]\n",
      "[1 1 3]\n",
      "[inf  2. inf]\n"
     ]
    },
    {
     "name": "stderr",
     "output_type": "stream",
     "text": [
      "/var/folders/w2/crbb37c54n947ngp2m2rt8_40000gn/T/ipykernel_1941/3839639845.py:6: RuntimeWarning: divide by zero encountered in divide\n",
      "  print(vec_a / vec_b)\n"
     ]
    }
   ],
   "source": [
    "# We can do other similar element-by-element operations\n",
    "# such as multiplication, subtraction, and division.\n",
    "\n",
    "print(vec_a * vec_b)\n",
    "print(vec_a - vec_b)\n",
    "print(vec_a / vec_b)\n"
   ]
  },
  {
   "attachments": {},
   "cell_type": "markdown",
   "metadata": {},
   "source": [
    "<font size = \"5\">\n",
    "Summary statistics of an array"
   ]
  },
  {
   "cell_type": "code",
   "execution_count": 22,
   "metadata": {},
   "outputs": [
    {
     "name": "stdout",
     "output_type": "stream",
     "text": [
      "2.0\n",
      "0.816496580927726\n",
      "1\n",
      "2.0\n",
      "3\n"
     ]
    }
   ],
   "source": [
    "# The function np.mean() computes the mean of an array\n",
    "# We can do similar operations for the standard deviation (std),\n",
    "# the minimum (min), the median (median), and the maximum (max).\n",
    "\n",
    "print(np.mean(vec_a))\n",
    "print(np.std(vec_a))\n",
    "print(np.min(vec_a))\n",
    "print(np.median(vec_a))\n",
    "print(np.max(vec_a))"
   ]
  },
  {
   "attachments": {},
   "cell_type": "markdown",
   "metadata": {},
   "source": [
    "<font size = \"5\">\n",
    "\n",
    "Try it yourself! Compute the mean of\n",
    "\n",
    "\n",
    "$ e = \\begin{pmatrix} 10 \\\\ 8 \\\\ 15 \\\\ 0 \\\\ 24 \\end{pmatrix} $"
   ]
  },
  {
   "cell_type": "code",
   "execution_count": 32,
   "metadata": {},
   "outputs": [
    {
     "name": "stdout",
     "output_type": "stream",
     "text": [
      "[  12   39 4018]\n",
      "2017\n",
      "678.3333333333334\n"
     ]
    }
   ],
   "source": [
    "# Create your own array and compute any of the above summary statistics\n",
    "\n",
    "vec_scarlett = np.array ([10,24,2001])\n",
    "vec_omi = np.array([2,15,2017])\n",
    "print (vec_scarlett + vec_omi)\n",
    "print (np.max(vec_omi))\n",
    "print(np.mean(vec_scarlett))\n",
    "\n"
   ]
  },
  {
   "attachments": {},
   "cell_type": "markdown",
   "metadata": {},
   "source": [
    "<font size = \"5\">\n",
    "<span style=\"color:red\"> Common Pitfall </span>: Make sure that the arrays have the same size"
   ]
  },
  {
   "cell_type": "code",
   "execution_count": 23,
   "metadata": {},
   "outputs": [
    {
     "name": "stdout",
     "output_type": "stream",
     "text": [
      "[1 2 3]\n",
      "[  10  100 1000 2000 5000]\n"
     ]
    }
   ],
   "source": [
    "print(vec_a)\n",
    "print(vec_c)"
   ]
  },
  {
   "cell_type": "code",
   "execution_count": 24,
   "metadata": {},
   "outputs": [
    {
     "data": {
      "text/plain": [
       "(3,)"
      ]
     },
     "execution_count": 24,
     "metadata": {},
     "output_type": "execute_result"
    }
   ],
   "source": [
    "vec_a.shape"
   ]
  },
  {
   "cell_type": "code",
   "execution_count": 25,
   "metadata": {},
   "outputs": [
    {
     "ename": "ValueError",
     "evalue": "operands could not be broadcast together with shapes (3,) (5,) ",
     "output_type": "error",
     "traceback": [
      "\u001b[0;31m---------------------------------------------------------------------------\u001b[0m",
      "\u001b[0;31mValueError\u001b[0m                                Traceback (most recent call last)",
      "Cell \u001b[0;32mIn[25], line 3\u001b[0m\n\u001b[1;32m      1\u001b[0m \u001b[38;5;66;03m# Here I try to combine two arrays of different size.\u001b[39;00m\n\u001b[0;32m----> 3\u001b[0m vec_a \u001b[38;5;241m+\u001b[39m vec_c\n",
      "\u001b[0;31mValueError\u001b[0m: operands could not be broadcast together with shapes (3,) (5,) "
     ]
    }
   ],
   "source": [
    "# Here I try to combine two arrays of different size.\n",
    "\n",
    "vec_a + vec_c"
   ]
  },
  {
   "attachments": {},
   "cell_type": "markdown",
   "metadata": {},
   "source": [
    "##  <span style=\"color:darkblue\"> IV. Random Numbers </span>\n",
    "\n",
    "<font size = \"5\">\n",
    "\n",
    "Why randomness?\n",
    "\n",
    "- Simulate different scenarios: high risk or low risk\n",
    "- Study properties of a complex system and/or estimator\n",
    "- In medicine, randomly assign subjects to treatment or control"
   ]
  },
  {
   "attachments": {},
   "cell_type": "markdown",
   "metadata": {},
   "source": [
    "<font size = \"5\">\n",
    "\n",
    "Create a vector of random variables"
   ]
  },
  {
   "cell_type": "code",
   "execution_count": 33,
   "metadata": {},
   "outputs": [
    {
     "name": "stdout",
     "output_type": "stream",
     "text": [
      "[-0.0032825  -0.99974726 -0.31898436 -0.58048398 -1.19383308 -0.49315638\n",
      " -0.21305454  1.43499514 -0.85698229  1.13644599]\n"
     ]
    }
   ],
   "source": [
    "# This code creates a vector of random variables \n",
    "# generated from a normal distribution with\n",
    "# mean \"loc\" (location) and standard deviation \"scale\"\n",
    "# the number of distinct variabels is \"size\"\n",
    "\n",
    "randomvar_a = np.random.normal(loc=0, scale=1, size=10)\n",
    "print(randomvar_a)"
   ]
  },
  {
   "attachments": {},
   "cell_type": "markdown",
   "metadata": {},
   "source": [
    "<font size = \"5\">\n",
    "\n",
    "Random numbers differ every time!\n",
    "\n",
    "- Avoid this problem by drawing from a \"pregenerated\" set.\n",
    "- This is called a seed"
   ]
  },
  {
   "cell_type": "code",
   "execution_count": 34,
   "metadata": {},
   "outputs": [
    {
     "name": "stdout",
     "output_type": "stream",
     "text": [
      "[ 1.11417929  1.44487377  0.26473752 -0.41701187 -1.71332341 -0.20751871\n",
      " -0.2088598  -1.03876599 -0.15437717 -0.67879554]\n"
     ]
    }
   ],
   "source": [
    "# Your computer will typically generate different numbers every time you run a command\n",
    "# However, sometimes you want to be able to replicate the results\n",
    "# You can choose any other number instead of \"12345\". This will produce another set\n",
    "# of random numbers, but they will give the same answers\n",
    "# there could be any number inside \n",
    "\n",
    "np.random.seed(10393)\n",
    "\n",
    "random_var_b = np.random.normal(loc=0, scale=1, size=10)\n",
    "print(random_var_b)"
   ]
  },
  {
   "attachments": {},
   "cell_type": "markdown",
   "metadata": {},
   "source": [
    "<font size = \"5\">\n",
    "\n",
    "Compute a histogram with the results"
   ]
  },
  {
   "cell_type": "code",
   "execution_count": 35,
   "metadata": {},
   "outputs": [
    {
     "data": {
      "text/plain": [
       "Text(0, 0.5, 'Frequency')"
      ]
     },
     "execution_count": 35,
     "metadata": {},
     "output_type": "execute_result"
    },
    {
     "data": {
      "image/png": "[encoded data removed]",
      "text/plain": [
       "<Figure size 640x480 with 1 Axes>"
      ]
     },
     "metadata": {},
     "output_type": "display_data"
    }
   ],
   "source": [
    "# Compute a histogram\n",
    "# You can edit the number of bins with plt.hist(x = randomvar_a)\n",
    "\n",
    "randomvar_x = np.random.normal(loc=0, scale=1, size=10)\n",
    "\n",
    "plt.hist(x = randomvar_x)\n",
    "plt.xlabel(\"Variable a\")\n",
    "plt.ylabel(\"Frequency\")"
   ]
  },
  {
   "attachments": {},
   "cell_type": "markdown",
   "metadata": {},
   "source": [
    "<font size = \"5\">\n",
    "\n",
    "Try this again with $size = 100, 1000, 10000$"
   ]
  },
  {
   "cell_type": "code",
   "execution_count": 45,
   "metadata": {},
   "outputs": [
    {
     "name": "stdout",
     "output_type": "stream",
     "text": [
      "[-0.03653989 -1.21186564 -0.52021201 -0.56867365 -0.05247716 -0.03494069\n",
      "  0.19521233  0.75390815  1.08482226 -0.84453956 -0.42407019  1.22548201\n",
      " -1.20122583 -0.31218887 -0.51779165  1.4041342  -1.21865788 -1.68119715\n",
      " -1.12786024 -0.68843526  2.48094932 -1.26412555 -1.40836279 -0.09742422\n",
      " -1.79700446 -0.941912    0.56934506  0.78571162  0.2657428  -0.69873254\n",
      " -0.27841282  1.74242182 -0.83340353  0.52657057 -0.72206878 -0.27215456\n",
      " -0.91743279 -0.40018235 -0.12862068 -0.13669366  1.37015234 -0.69882194\n",
      " -0.95793973  1.46711569 -0.08413555 -0.03995061  1.54878433 -0.27448224\n",
      "  1.00570006  0.87049901  0.8095507   0.03417322  0.4970425   0.97214307\n",
      "  1.72852839  1.5468784   0.41107677 -1.25965112  0.59543548  0.03321097\n",
      "  0.19858394  0.47534711  0.01498726 -0.238823   -1.43215479 -1.24958649\n",
      "  0.32116789 -0.44922999  1.06835781  0.36465413  0.3572137   1.32075517\n",
      " -0.40583377  0.30961483  0.99300183 -0.83616569 -0.5321448   0.29045019\n",
      " -1.85271545  0.01098378 -0.22646664 -1.06666512 -1.39368274  0.77372933\n",
      " -0.52289072 -0.58832248  1.6636565   0.8677974  -0.82629761 -0.795369\n",
      " -0.72218602 -0.75551114 -0.83701932 -1.89943741 -1.10056275  0.48378939\n",
      " -0.25002629  0.38412172 -1.3142964  -0.11605693]\n",
      "[-0.61511777 -0.23712609  1.09876281 ... -1.91110608 -0.64776699\n",
      " -1.66424233]\n",
      "[ 1.32921217e+00 -7.70033452e-01 -3.16280360e-01 -9.90810387e-01\n",
      " -1.07081626e+00 -1.43871328e+00  5.64416852e-01  2.95721888e-01\n",
      " -1.62640423e+00  2.19565199e-01  6.78804799e-01  1.88927273e+00\n",
      "  9.61538399e-01  1.04011196e-01 -4.81165317e-01  8.50228531e-01\n",
      "  1.45342467e+00  1.05773744e+00  1.65561607e-01  5.15018378e-01\n",
      " -1.33693569e+00  5.62861137e-01  1.39285483e+00 -6.33279835e-02\n",
      "  1.21668362e-01  1.20760254e+00 -2.04021491e-03  1.62779574e+00\n",
      "  3.54492786e-01  1.03752763e+00 -3.85683513e-01  5.19818001e-01\n",
      "  1.68658289e+00 -1.32596315e+00  1.42898370e+00 -2.08935428e+00\n",
      " -1.29819937e-01  6.31522949e-01 -5.86538064e-01  2.90720081e-01\n",
      "  1.26410337e+00  2.90034782e-01 -1.97028850e+00  8.03905889e-01\n",
      "  1.03055033e+00  1.18097936e-01 -2.18533273e-02  4.68407139e-02\n",
      " -1.62875286e+00 -3.92360590e-01  1.70097271e+00  1.06132976e+00\n",
      "  6.95803574e-01 -4.35988570e-01 -3.32941620e-01  6.02134563e-01\n",
      "  1.08788959e-01  3.67669286e-02 -5.38963407e-01  4.99177887e-01\n",
      " -7.11951757e-01 -2.37000969e-01  8.57119235e-01 -1.88235190e+00\n",
      "  4.20705086e-01 -1.06917534e+00 -2.57685880e+00 -1.22492344e+00\n",
      " -1.15675186e+00  9.31304271e-01  9.84257148e-01  2.22615937e+00\n",
      " -4.18503915e-01 -3.33777673e-01 -1.47426869e-01  1.56130767e+00\n",
      "  6.84709996e-01  2.94623651e-02 -8.52474920e-01  1.98141717e+00\n",
      " -1.63019863e+00 -2.35034324e-01 -1.64071261e-01  6.58479613e-01\n",
      " -1.30789212e+00  1.35378504e+00 -1.28522651e-01 -9.73279189e-01\n",
      " -6.94448784e-01 -4.88414674e-02 -5.79608261e-01  8.71106114e-01\n",
      " -9.70320260e-01  4.23359442e-01  1.97424450e+00  3.06420378e-01\n",
      "  9.99261932e-01  8.72336098e-01 -1.86798030e+00  1.23074409e+00\n",
      " -1.28514775e-01  8.41706447e-01  1.10453406e+00  4.67185203e-01\n",
      "  2.05179923e-01 -1.28274262e+00  8.11909106e-01  9.35025895e-02\n",
      "  4.75620953e-01  9.90621190e-01 -1.11876042e+00  9.92857010e-01\n",
      "  1.38929256e+00 -3.82092160e-01 -1.75590830e+00  2.10674477e+00\n",
      "  6.69489033e-01  4.91352020e-01  7.67439733e-03 -6.18005087e-01\n",
      " -6.55212453e-01  1.32789504e-01  6.89613668e-02 -3.53841328e-01\n",
      " -8.99835057e-01  1.50078393e-01 -1.15511576e+00 -1.63808786e+00\n",
      " -1.43834925e+00 -1.66624079e+00  5.70318297e-01 -7.91125308e-01\n",
      "  7.34733257e-01  3.44844265e-01  1.70377091e+00  6.93210602e-01\n",
      "  7.40751530e-01 -5.88767377e-01 -1.81774302e+00  6.02709009e-01\n",
      "  1.13355286e+00 -4.41582325e-01 -5.52599428e-01 -4.26768147e-01\n",
      " -7.35852715e-01  1.14530244e+00 -1.74462492e-01  7.34268122e-01\n",
      "  3.09564638e-01 -9.05451279e-01  1.88139263e+00 -2.26389329e-01\n",
      " -8.05254914e-01  1.40634444e+00  6.48109706e-01 -3.64865844e-01\n",
      " -1.02143817e+00 -1.49106817e+00 -9.96760534e-01  4.07163239e-01\n",
      " -9.14742842e-01  1.00273901e+00 -4.45906994e-01  8.26202335e-01\n",
      " -8.59451563e-01  1.32209985e-01  8.04774105e-02 -1.62260009e-01\n",
      " -1.87170798e-02 -5.04345871e-01 -1.69820832e-01  1.84261122e+00\n",
      "  2.25384149e-01  1.38814214e+00  1.42007226e+00  5.63604939e-01\n",
      "  1.22824561e+00  4.83693510e-01  3.24090519e-02 -2.49578001e-01\n",
      " -6.65424737e-01 -8.53999753e-01  1.93732362e+00  1.00680044e-02\n",
      "  6.04797625e-02  9.45952708e-01 -2.87009610e+00  3.51710116e-01\n",
      "  2.65489679e-01  1.05712214e-01 -5.77698223e-01 -4.05382025e-01\n",
      "  1.09028593e+00  1.42727153e+00  6.92980868e-01  1.85200439e-01\n",
      "  1.07431113e-01 -2.13213059e-01 -1.13148469e+00  3.11157248e-01\n",
      " -8.02331570e-01 -1.77516763e+00 -1.38263093e-01 -4.70873899e-01\n",
      " -3.13893572e-01 -3.08148927e-01 -1.30069445e+00 -5.88125706e-01\n",
      " -6.56700579e-01 -1.67370971e+00  3.19814812e-01  8.06581966e-01\n",
      " -2.38460011e-01 -2.57552871e-01 -1.30056786e-01  1.70326829e-01\n",
      " -1.20505925e+00 -1.14680075e-01 -5.29323924e-01 -1.11298149e+00\n",
      " -2.59462337e-01 -9.92228655e-01 -4.61103845e-01  7.30760173e-01\n",
      "  1.64748972e+00 -5.56132848e-01 -1.29985501e+00  1.12425866e+00\n",
      " -1.09399989e+00  2.84061925e-01  1.94418757e-02  1.52530226e-01\n",
      " -3.33384575e-01 -1.35187469e+00  6.64360594e-01 -2.61643608e-01\n",
      " -1.01356945e+00  1.26093329e-01 -7.96576182e-01  2.21348330e+00\n",
      "  5.13600166e-01 -9.42990408e-01 -1.83243718e-01 -6.96089710e-01\n",
      " -9.51256012e-01 -9.27400108e-01 -3.44900515e-01  2.48659348e-01\n",
      " -7.36545651e-02 -3.90790473e-01  3.15709247e-01  9.82495550e-01\n",
      " -5.48871305e-01  1.33013716e+00  1.44840281e+00 -9.83937164e-01\n",
      "  9.13330510e-02 -2.24107618e-01  4.99484846e-01  1.56027269e+00\n",
      "  9.26918497e-01 -7.63300428e-01  5.72560199e-01  1.47582595e-01\n",
      "  1.88452689e+00  1.20623570e-01 -3.33441386e-01  1.81042904e-01\n",
      " -2.36710477e-02 -1.13936496e+00 -5.58543347e-01 -7.85827564e-01\n",
      " -1.04210841e+00 -1.15741575e+00  1.82133308e-01  9.09175783e-02\n",
      "  1.34837316e+00 -9.13758520e-01 -5.88056201e-01 -4.91088456e-01\n",
      "  1.63957789e+00 -2.20204811e-01  1.37330437e+00 -2.80607116e+00\n",
      " -9.09518380e-01  2.23635334e+00 -5.76660330e-01  9.36458596e-01\n",
      " -8.42908214e-01 -1.36458041e+00  4.80403240e-01  1.98174317e-01\n",
      "  1.32480516e-01  2.19409592e+00 -7.28495875e-01 -9.98586875e-02\n",
      "  1.22637133e+00  1.34779414e+00 -6.18226040e-01  6.74911507e-01\n",
      "  2.32684307e-01 -1.14457782e+00  9.01429621e-01 -2.06670653e-01\n",
      " -2.86492597e-01 -2.42936026e-01  7.13858100e-01 -1.82499981e+00\n",
      "  2.01513823e-01 -6.23345452e-01 -1.35297770e+00 -5.64937150e-01\n",
      " -2.00934628e-01 -2.98344475e-02 -1.09092450e+00  1.79689954e-01\n",
      " -2.82162898e-01 -1.40865066e+00 -8.71348131e-02  2.35827809e-01\n",
      " -1.08602847e+00  1.31305156e+00  1.68168345e+00 -2.45368221e+00\n",
      " -1.21365794e-01 -1.22340622e+00 -1.48641910e+00  8.52987950e-01\n",
      " -2.75621457e-01 -4.21774391e-01  4.68245802e-01 -3.45871458e-01\n",
      " -1.52960666e+00 -4.88444908e-01  1.23539113e+00 -3.58633243e-02\n",
      "  6.59287051e-01 -2.03190320e-01 -1.65915923e+00 -1.41946971e+00\n",
      "  5.74383402e-01  4.72582846e-01  1.83156926e+00  1.04150411e+00\n",
      " -9.94519096e-02  1.17036993e+00 -2.26076842e+00 -7.94142981e-01\n",
      " -6.34908409e-01 -2.32902848e+00  3.85507226e-02 -1.15246957e+00\n",
      " -1.17056856e-01  8.54915703e-01 -9.96020062e-01 -5.17409192e-01\n",
      "  6.78757357e-01 -1.26696067e+00  1.27239564e+00 -5.70241164e-02\n",
      " -1.68302353e+00 -3.40426677e-01  1.17344850e+00 -1.02589157e+00\n",
      "  8.50166752e-01 -6.99211769e-01 -1.01699275e+00  8.00689765e-02\n",
      "  1.10499272e+00 -9.45224930e-01 -1.71076584e+00  4.43299790e-01\n",
      "  6.84324148e-01  3.18754342e-01  7.44554598e-01 -1.44867858e-01\n",
      " -6.79892296e-01 -3.66115549e-01  1.53410058e+00 -2.62922876e-01\n",
      "  1.73615224e-01  5.61564691e-01  1.00590707e+00 -8.72502564e-01\n",
      " -3.66511523e-01 -8.20119715e-01  1.56285151e+00 -1.02255109e-01\n",
      " -4.91149439e-01  1.11980275e+00 -2.98752828e-01  3.83954965e-01\n",
      "  1.63366318e+00  1.26894225e+00  1.72746176e+00 -6.88257496e-01\n",
      " -5.38412499e-01  2.02710652e-01  4.30079274e-01 -1.38182870e+00\n",
      " -1.12372680e-01  1.54865691e+00  1.29291476e-01 -6.92113089e-01\n",
      " -3.84718051e-01 -1.36150117e+00  1.15001783e+00  7.88614661e-01\n",
      " -1.75572972e+00  7.38975067e-01  8.56155074e-01  1.19498637e+00\n",
      " -1.70552321e+00  1.38038220e+00  1.24196653e+00  7.38665230e-02\n",
      " -2.80869897e-01 -8.69388653e-01 -1.95622026e+00  9.14457990e-01\n",
      " -2.81846458e+00 -1.23627942e-01  7.04004889e-01  3.58367893e-02\n",
      "  7.77628530e-01 -1.02209619e-01 -8.34507759e-01 -6.61922051e-01\n",
      " -1.18779827e+00 -3.01621788e-01 -9.21423336e-01  1.02988241e+00\n",
      " -1.23440690e+00 -1.57989802e-01  3.82501769e-01  2.57553881e-01\n",
      "  1.01914736e+00 -1.56324063e+00 -1.17698774e+00 -1.00910314e+00\n",
      "  9.25284336e-01 -8.32195338e-02 -3.65388896e-01  8.15034719e-01\n",
      "  3.47050106e-01 -1.60964991e+00 -6.67099896e-02  2.42532179e-01\n",
      "  1.56193179e+00  5.44769211e-01  3.28780185e-01  2.64105177e-01\n",
      " -1.05614470e+00 -1.59498705e+00 -1.01859662e+00  1.38052075e+00\n",
      " -9.73109992e-02 -1.72801821e-01 -2.74338287e+00 -3.60824158e-01\n",
      " -4.58430810e-01 -1.24460065e+00 -8.70305453e-01  6.76416649e-01\n",
      " -3.05878520e-01 -1.43953574e+00 -4.87379905e-01 -2.11841821e-01\n",
      " -6.49569277e-01  8.32476979e-02  1.10791536e+00  4.53746535e-01\n",
      " -2.02654530e+00 -1.23893827e+00 -4.65246567e-01  4.80848758e-01\n",
      "  1.03238011e+00  2.88230799e-01 -4.23015005e-01  1.01992989e+00\n",
      "  1.74816829e+00 -1.26573652e+00 -4.72189143e-01  1.46258647e-01\n",
      "  4.95156601e-02  2.94702042e-01  1.03474868e+00  1.80696514e-02\n",
      " -8.94357707e-01  1.04072100e+00  2.47432425e-01  7.56667322e-01\n",
      " -1.99470339e+00 -6.92701408e-01  2.42584002e+00 -1.39646931e+00\n",
      " -1.80083936e+00 -5.64338138e-03  9.83483279e-01 -1.32549010e+00\n",
      " -2.76092942e-01  1.73513648e-01  7.62605490e-03  7.31730783e-01\n",
      "  1.97814725e+00  3.35973190e-01 -4.95639555e-02  1.69450748e+00\n",
      "  1.29971007e+00 -4.45965103e-01  1.06469612e-01  4.72610153e-01\n",
      "  1.43097753e+00  9.12074899e-01 -1.26442523e-01  5.20817063e-01\n",
      " -9.15684161e-01 -2.65315319e-01  9.55802020e-01 -1.69821468e-01\n",
      "  4.53533906e-01  1.08990447e+00 -5.60232650e-01  1.74103643e+00\n",
      " -1.98392429e+00 -8.31987705e-01  1.09042985e+00  1.03860906e+00\n",
      " -7.11407604e-01 -1.70436633e+00  6.70763928e-01  2.82874828e-01\n",
      " -8.63938556e-01  2.16918454e-01  8.29081166e-01 -1.20009405e+00\n",
      " -1.47787441e+00  3.34284548e-01  6.97786772e-01  2.57420731e+00\n",
      " -4.32660235e-01  1.52611872e+00  4.12497878e-01  4.04861289e-01\n",
      "  6.19563455e-01  8.99644331e-01 -4.09519978e-01  1.54492110e-01\n",
      "  1.27337646e-01 -1.67880436e+00  1.61863290e+00  3.26505084e-01\n",
      " -1.19339087e+00  4.96760118e-01 -1.52545451e+00 -7.53455701e-01\n",
      " -1.02398645e-01  9.48613648e-01  9.58430414e-01  1.58826919e-01\n",
      "  2.30246953e-01 -2.18394886e-01  1.15403150e+00  3.93142876e-01\n",
      "  3.27314890e-01 -7.57389589e-02 -2.68775093e-01  9.19599546e-01\n",
      "  3.68495296e-01 -1.64948932e-01 -1.39948211e+00  4.01095486e-01\n",
      "  9.05179303e-01 -1.13867664e+00 -2.27210992e+00  3.20127245e-01\n",
      " -4.46048466e-02  9.57541319e-02  5.34294732e-01  1.29155809e+00\n",
      " -9.63819697e-01 -6.06062182e-01 -1.44718680e+00  3.88718551e-01\n",
      " -2.21232948e-01 -5.75107565e-01  8.07201190e-02 -1.93127435e+00\n",
      "  3.30534024e-01  4.72078937e-01  1.07889656e+00  1.62600220e+00\n",
      "  6.34586208e-01 -7.16079624e-01 -5.03729599e-01  1.32366884e+00\n",
      " -2.03781581e+00  5.69398280e-01  1.41251435e-01 -1.22556941e-01\n",
      " -1.60513522e+00 -2.13607350e+00  1.47261893e+00  2.20542985e+00\n",
      "  4.45023427e-01  7.95187647e-01 -1.03055084e+00 -4.82253818e-01\n",
      "  5.30872524e-02 -1.52969474e-02 -5.47557416e-01 -1.03467352e+00\n",
      " -1.11080728e+00  1.06846694e+00  7.68657479e-01  9.41776192e-01\n",
      "  9.54466576e-01  1.30636012e+00 -6.43340654e-01  1.04890298e+00\n",
      " -7.20515638e-01  6.39134150e-02  1.22728661e+00  6.26874864e-01\n",
      " -1.75556653e-01  1.09988211e+00  7.93976531e-01 -1.19116196e+00\n",
      " -1.55169468e-01 -1.94008434e+00 -1.39712747e+00 -3.33903636e-01\n",
      " -9.08575201e-01  1.02636742e+00  1.07666511e+00 -5.65240561e-01\n",
      " -3.06147988e-02  1.51796402e+00  1.45451480e+00 -5.92389145e-02\n",
      "  7.24393534e-01  2.74881629e-01  2.05182070e+00  1.54831046e+00\n",
      "  3.23843567e-02  4.41087819e-01  1.01919056e-01  1.38775297e-01\n",
      " -7.47334791e-01 -1.09974573e+00 -3.64848737e-01  5.43201114e-01\n",
      " -1.39437545e+00 -9.29940903e-01 -3.20517306e-01 -1.36123186e+00\n",
      "  1.13676060e+00  6.46981492e-01  7.43541638e-01 -7.90155007e-01\n",
      " -1.07486641e+00 -6.82072813e-01  3.54283848e-01 -8.05570543e-01\n",
      "  7.74830271e-01  2.21264336e-01  8.35858753e-01 -1.42620734e-01\n",
      "  7.75410036e-01  8.58302783e-01  1.22786198e+00 -1.03949601e+00\n",
      " -1.47817031e+00 -8.01063423e-01  1.26178963e+00 -2.21624258e-01\n",
      "  1.12675406e+00  2.89330653e-01  8.30856121e-01  1.18929918e+00\n",
      " -6.79354024e-01 -2.15556734e-01  7.04475041e-01  6.34268370e-01\n",
      " -1.19822378e+00  9.74975295e-01 -1.73317331e+00 -8.62700616e-02\n",
      " -1.27034103e-01  9.82739317e-01  9.37242174e-01  2.76113158e-01\n",
      "  1.25492448e+00  2.62527007e-01 -1.24461043e+00 -6.94746237e-01\n",
      "  9.52398679e-01  5.51361502e-01  5.36239242e-01  1.00928651e+00\n",
      "  3.05831157e-01 -1.31588443e+00  1.08043611e+00  2.13460981e+00\n",
      "  1.22722652e+00 -8.24477782e-01 -7.28464378e-01 -1.33959262e+00\n",
      "  5.61811584e-01  2.90368842e-01 -8.50244134e-01  5.53910257e-01\n",
      " -5.64191970e-01  3.53046056e-01  8.69297165e-01 -1.34690180e+00\n",
      "  2.59037621e+00 -1.48192841e+00 -3.10563254e-01  9.38552803e-01\n",
      " -9.33091018e-01 -7.34547171e-01  9.95996389e-01  3.52873481e-01\n",
      " -7.02305419e-01 -6.21702081e-01  1.26184091e+00  1.97464634e+00\n",
      "  1.55311496e+00 -1.70824354e+00 -4.66208713e-01 -2.09712163e+00\n",
      " -9.17351882e-01 -3.45337665e-01  6.41298353e-01  1.60586950e+00\n",
      " -1.06323986e+00 -7.33157450e-01 -1.29583003e-01  1.47213633e+00\n",
      " -1.33978089e+00 -9.04175220e-01  2.73786513e-01  2.14975798e+00\n",
      " -9.08342309e-01  7.96718133e-01 -7.88413034e-01  9.95901317e-01\n",
      " -6.77855047e-01 -4.66682189e-02 -4.67277553e-01  7.68394753e-01\n",
      " -1.37281813e-01  1.46049516e+00  4.30229322e-01 -9.43774436e-01\n",
      "  7.75362976e-01 -1.50184530e+00 -7.91665424e-01 -1.33791327e-01\n",
      " -2.01002057e+00  4.39864069e-01 -9.46370300e-01 -1.76852143e-01\n",
      " -1.25152683e+00  1.31714196e+00 -8.71616634e-01 -1.17284378e+00\n",
      "  9.44135562e-01 -6.87712057e-01 -1.51479773e+00 -3.93485082e-01\n",
      "  9.98042701e-01 -2.49263978e-01 -7.15908639e-01 -3.69759236e-01\n",
      " -6.58603928e-01 -1.37663800e+00  1.47453181e+00 -2.94336928e-01\n",
      "  9.11041524e-01  7.42364154e-01 -1.06129153e+00 -1.04130205e-03\n",
      " -2.97120937e-01 -4.74955258e-01  1.96145620e-01 -9.50703041e-01\n",
      " -2.00420461e+00  7.72226815e-01 -3.18887715e-01 -5.19651186e-01\n",
      " -1.22957498e+00 -6.52866383e-01  1.13217507e+00 -1.15947414e+00\n",
      "  9.32671484e-01  6.86342837e-01  2.39076060e+00  1.98295643e-02\n",
      "  4.29668462e-01 -1.93897021e+00  3.37861386e-01  8.93444428e-01\n",
      "  1.18174984e+00  1.36370285e+00  9.73467516e-02  5.81485590e-01\n",
      " -1.27364320e+00 -1.13290259e+00  5.56437876e-01  1.25798101e-01\n",
      "  4.45477018e-01  6.03681232e-01 -6.20296699e-01 -2.18933123e+00\n",
      "  9.06560761e-01 -1.09664006e+00  2.64371207e-01  8.21699805e-01\n",
      " -9.60554424e-01 -8.02018792e-01  8.15743013e-02 -2.78861436e-01\n",
      "  2.20810031e+00  1.48827269e+00 -1.11582482e+00  1.37764520e+00\n",
      " -6.80429303e-02  5.74253270e-01 -3.78536742e-01  7.83741867e-01\n",
      "  2.98197965e+00 -3.16872347e-01 -2.41025315e+00  3.37701212e-01\n",
      " -6.24518760e-01  5.45739740e-01  4.06872209e-01 -2.26375672e-01\n",
      "  1.93348484e-01  2.21458457e+00  7.22172117e-02 -1.30495946e+00\n",
      "  5.03849322e-01 -4.26033189e-01 -9.67755944e-02 -9.58854831e-01\n",
      "  1.32308311e+00  5.40894019e-01 -1.10156783e+00 -1.73574921e+00\n",
      "  3.56981137e-01 -4.23148649e-01 -8.96202971e-03 -2.57974385e-01\n",
      " -1.26568100e+00  6.62159302e-01 -2.51281994e-01 -2.62969434e-01\n",
      "  9.53454142e-01  8.27752839e-01 -1.19331226e+00  1.10621975e+00\n",
      "  2.18871062e+00 -8.08134373e-01  7.02880812e-01  2.01403208e+00\n",
      " -1.92995278e+00 -6.66249187e-01 -1.63006371e-01  1.54994213e-01\n",
      " -4.21856106e-01  9.51102775e-01 -4.71322781e-01  1.12704055e+00\n",
      " -2.12645803e+00  1.94526515e-01  9.02078975e-02  1.20073852e+00\n",
      " -5.15919441e-01  1.09011342e+00  6.95482621e-01  7.52516063e-01\n",
      " -7.56184703e-01  1.63171685e+00 -9.98201040e-01  4.01938302e+00\n",
      " -1.41196865e+00 -1.41217503e+00  4.82784546e-01  1.12256076e+00\n",
      "  1.01883824e+00  3.32912757e-01 -2.06765877e-01 -9.11701522e-01\n",
      "  1.11544221e+00  1.21122128e+00  5.25178628e-03 -1.03727279e-01\n",
      " -6.80639728e-02  2.13029194e-01  1.20951501e+00 -4.37625377e-01\n",
      " -2.78480712e-01 -9.11849581e-01  1.08702230e+00 -1.84726434e-01\n",
      "  1.87375565e-01  2.33095996e+00  3.01784787e-01  6.35366824e-01\n",
      "  1.31954912e+00 -8.16747056e-02  9.58648965e-01  1.47503993e+00\n",
      " -3.36408485e-01  3.06679913e-01  4.57133981e-01  1.44556475e+00\n",
      "  2.17226669e-01  1.98143319e+00  4.96349045e-01  2.17159493e+00\n",
      " -7.38501081e-01  3.97229386e-01 -7.35522101e-01  7.22589366e-01\n",
      " -8.59204189e-02  1.94735565e+00  1.68704438e-01  7.59525430e-01\n",
      " -5.34620284e-01 -7.49127240e-01  2.84796349e-02  7.35338174e-01\n",
      "  4.13737156e-01 -4.63977953e-01  1.46853653e-01 -1.71810912e+00\n",
      " -6.43588634e-01  4.15630103e-01  4.13068908e-01  9.30113968e-01\n",
      " -2.13132135e+00 -9.69896694e-01 -8.81817069e-01 -5.64425057e-01\n",
      " -6.24821497e-01  8.50912146e-01  5.31869451e-02  4.49107643e-02\n",
      "  9.67047512e-01  3.73512564e-01  1.03228978e+00  2.64590755e-01\n",
      " -9.75694354e-01  7.43714958e-01 -6.65191864e-01 -1.24608616e+00\n",
      "  6.97227282e-01  1.28118012e+00 -2.96738981e+00  1.48475846e+00\n",
      " -1.63124141e+00 -9.97924126e-01  1.18886575e-02  1.13521477e-01\n",
      " -6.51922119e-01 -5.57304634e-01 -6.09072376e-01 -2.59815008e-01\n",
      " -3.22604765e-02  1.25130274e+00 -7.40453852e-01 -4.12869258e-02\n",
      " -2.62341685e-01 -9.39389380e-01  5.32518473e-02  1.73654385e+00\n",
      " -9.85362390e-01  6.62509953e-01 -7.17180327e-02 -4.86396806e-01\n",
      " -1.47077719e+00 -5.48898445e-01 -1.71572925e+00 -4.22305667e-01\n",
      "  2.32192196e+00 -9.08498525e-01 -4.29332402e-01  1.25050115e+00\n",
      "  6.43634426e-01 -1.55906222e+00 -2.68977899e+00 -8.87239000e-01\n",
      "  2.05016818e-01  8.46820912e-01  1.73889649e+00  1.93991673e+00]\n"
     ]
    },
    {
     "data": {
      "text/plain": [
       "Text(0.5, 0, 'I love omi')"
      ]
     },
     "execution_count": 45,
     "metadata": {},
     "output_type": "execute_result"
    },
    {
     "data": {
      "image/png": "[encoded data removed]",
      "text/plain": [
       "<Figure size 640x480 with 1 Axes>"
      ]
     },
     "metadata": {},
     "output_type": "display_data"
    }
   ],
   "source": [
    "# Write the code for your histogram\n",
    "np.random.seed(215)\n",
    "\n",
    "rand_var_omi = np.random.normal (loc = 0, scale = 1, size = 100)\n",
    "\n",
    "np.random.seed (24)\n",
    "rand_var_sc = np.random.normal (loc = 0, scale = 1, size = 1000)\n",
    "\n",
    "np.random.seed (610)\n",
    "rand_var_nasu = np.random.normal (loc = 0, scale = 1, size = 10000)\n",
    "\n",
    "print(rand_var_omi)\n",
    "print (rand_var_nasu)\n",
    "print (rand_var_sc)\n",
    "\n",
    "plt.hist(x = rand_var_omi, color = \"lightgreen\")\n",
    "plt.xlabel (\"I love omi\")"
   ]
  },
  {
   "attachments": {},
   "cell_type": "markdown",
   "metadata": {},
   "source": [
    "# <span style=\"color:darkblue\"> Additional Resources </span>\n",
    "\n",
    "<font size=\"5\"> \n",
    "\n",
    "Check out additional examples at:\n",
    "\n",
    "- https://allendowney.github.io/ElementsOfDataScience/03_arrays.html\n",
    "\n",
    "\n"
   ]
  },
  {
   "attachments": {},
   "cell_type": "markdown",
   "metadata": {},
   "source": [
    "# <span style=\"color:darkblue\"> (Optional) Matrix Operations </span>\n",
    "\n",
    "<font size=\"5\"> \n"
   ]
  },
  {
   "attachments": {},
   "cell_type": "markdown",
   "metadata": {},
   "source": [
    "<font size = \"5\">\n",
    "Creating a matrix by stacking different rows\n",
    "\n",
    "$ \\text{ }$\n",
    "\n",
    "$ X = \\begin{pmatrix} 1 & 2 & 3 \\\\ \n",
    "                       0 & 4 & 5 \\\\\n",
    "                       0 & 0 & 6\n",
    "                       \\end{pmatrix} $"
   ]
  },
  {
   "cell_type": "code",
   "execution_count": null,
   "metadata": {},
   "outputs": [],
   "source": [
    "# Matrices are usually denoted by capital letters\n",
    "# The object [[1,2,3],[4,5,6],[7,8,9]] is a list of lists\n",
    "# It's useful to maintain this notation in the code as well\n",
    "\n",
    "X = np.array([[1,2,3],[0,4,5],[0,0,6]])\n",
    "print(X)"
   ]
  },
  {
   "attachments": {},
   "cell_type": "markdown",
   "metadata": {},
   "source": [
    "<font size = \"5\">\n",
    "Creating a matrix by stacking different columns\n",
    "\n",
    "$ \\text{ } $\n",
    "\n",
    "$ Y = \\begin{pmatrix} 1 & 2 \\\\ 0 & 1 \\\\ 1 & 0 \\end{pmatrix}$"
   ]
  },
  {
   "cell_type": "code",
   "execution_count": null,
   "metadata": {},
   "outputs": [],
   "source": [
    "# You can also stack columns\n",
    "Y =  np.column_stack([[1,0,1],[2,1,0]])\n",
    "print(Y)"
   ]
  },
  {
   "attachments": {},
   "cell_type": "markdown",
   "metadata": {},
   "source": [
    "<font size = \"5\">\n",
    "Transpose\n",
    "\n",
    "$ \\text{ }$\n",
    "\n",
    "$ Y' = \\begin{pmatrix}  1 & 0 & 1 \\\\ 2 & 1 & 0  \\end{pmatrix} $"
   ]
  },
  {
   "cell_type": "code",
   "execution_count": null,
   "metadata": {},
   "outputs": [],
   "source": [
    "# Matrix Transpose\n",
    "np.matrix.transpose(Y)"
   ]
  },
  {
   "attachments": {},
   "cell_type": "markdown",
   "metadata": {},
   "source": [
    "<font size = \"5\">\n",
    "\n",
    "Matrix multiplication\n",
    "\n",
    "$ XY = \\begin{pmatrix} 1 & 2 & 3 \\\\ \n",
    "                       0 & 4 & 5 \\\\\n",
    "                       0 & 0 & 6\n",
    "                       \\end{pmatrix}\n",
    "                       \\begin{pmatrix} 1 & 2 \\\\ 0 & 1 \\\\ 1 & 0 \\end{pmatrix} = \n",
    "        \\begin{pmatrix} 4 & 4 \\\\ 5 & 4 \\\\ 6 & 0 \\end{pmatrix} $"
   ]
  },
  {
   "cell_type": "code",
   "execution_count": null,
   "metadata": {},
   "outputs": [],
   "source": [
    "# Matrix Multiplication\n",
    "\n",
    "np.dot(X,Y)\n",
    "\n",
    "np.matmul(X,Y)"
   ]
  },
  {
   "attachments": {},
   "cell_type": "markdown",
   "metadata": {},
   "source": [
    "<font size = \"5\">\n",
    "\n",
    "Matrix inverse\n",
    "\n",
    "$ X^{-1} = \\begin{pmatrix} 1 & 2 & 3 \\\\ \n",
    "                       0 & 4 & 5 \\\\\n",
    "                       0 & 0 & 6\n",
    "                       \\end{pmatrix}^{-1} $"
   ]
  },
  {
   "cell_type": "code",
   "execution_count": null,
   "metadata": {},
   "outputs": [],
   "source": [
    "# Check the determinant of a matrix (a matrix is invertible if the determinant is not zero)\n",
    "print(np.linalg.det(X))\n",
    "\n",
    "# Matrix inverse\n",
    "# The following command stands for linear algebrar inverse.\n",
    "X_inv = np.linalg.inv(X)\n",
    "\n",
    "# Output the result\n",
    "print(X_inv)\n"
   ]
  },
  {
   "attachments": {},
   "cell_type": "markdown",
   "metadata": {},
   "source": [
    "<font size = \"5\">\n",
    "\n",
    "Try it yourself! Check that this is indeed an inverse:\n",
    "\n",
    "$X X_{inv} = \\begin{pmatrix} 1 & 0 & 0 \\\\ 0 & 1 & 0 \\\\ 0 & 0 & 1 \\end{pmatrix}$"
   ]
  },
  {
   "cell_type": "code",
   "execution_count": null,
   "metadata": {},
   "outputs": [],
   "source": [
    "# Multiply \"X\" times \"X_inv\" using the command shown above\n",
    "# Note: Sometimes the result is shown in scientific notation.\n",
    "\n",
    "\n",
    "\n"
   ]
  }
 ],
 "metadata": {
  "kernelspec": {
   "display_name": "base",
   "language": "python",
   "name": "python3"
  },
  "language_info": {
   "codemirror_mode": {
    "name": "ipython",
    "version": 3
   },
   "file_extension": ".py",
   "mimetype": "text/x-python",
   "name": "python",
   "nbconvert_exporter": "python",
   "pygments_lexer": "ipython3",
   "version": "3.11.5"
  },
  "orig_nbformat": 4,
  "vscode": {
   "interpreter": {
    "hash": "45fc1f684f6f416f40889115beff3ddf69879b64cf4bfee48cb72a61e9d15d1a"
   }
  }
 },
 "nbformat": 4,
 "nbformat_minor": 2
}
